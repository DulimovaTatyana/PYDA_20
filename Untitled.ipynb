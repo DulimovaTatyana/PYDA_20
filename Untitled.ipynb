{
 "cells": [
  {
   "cell_type": "code",
   "execution_count": 1,
   "metadata": {},
   "outputs": [],
   "source": [
    "#Задание 1"
   ]
  },
  {
   "cell_type": "code",
   "execution_count": 2,
   "metadata": {},
   "outputs": [],
   "source": [
    "phrase_1='Насколько проще было бы писать программы, если бы не заказчики'"
   ]
  },
  {
   "cell_type": "code",
   "execution_count": 3,
   "metadata": {},
   "outputs": [],
   "source": [
    "phrase_2='640Кб должно хватить для любых команд.Билл Гейтс(по легенде)'"
   ]
  },
  {
   "cell_type": "code",
   "execution_count": 4,
   "metadata": {},
   "outputs": [
    {
     "name": "stdout",
     "output_type": "stream",
     "text": [
      "Фраза 1 длиннее фразы 2\n"
     ]
    }
   ],
   "source": [
    "a=len(phrase_1)\n",
    "b=len(phrase_2)\n",
    "if a>b:\n",
    "    print('Фраза 1 длиннее фразы 2')"
   ]
  },
  {
   "cell_type": "code",
   "execution_count": 5,
   "metadata": {},
   "outputs": [
    {
     "name": "stdout",
     "output_type": "stream",
     "text": [
      "Фраза 2 длиннее фразы 1\n"
     ]
    }
   ],
   "source": [
    "c=len(phrase_2)\n",
    "d=len(phrase_1)\n",
    "if d>c:\n",
    "    print('Фраза 2 длиннее фразы 1')"
   ]
  },
  {
   "cell_type": "code",
   "execution_count": 6,
   "metadata": {},
   "outputs": [
    {
     "name": "stdout",
     "output_type": "stream",
     "text": [
      "Фразы равной длинны\n"
     ]
    }
   ],
   "source": [
    "e=len(phrase_1)\n",
    "f=len(phrase_1)\n",
    "if e==f:\n",
    "    print('Фразы равной длинны')"
   ]
  },
  {
   "cell_type": "code",
   "execution_count": 7,
   "metadata": {},
   "outputs": [],
   "source": [
    "#Задание 2"
   ]
  },
  {
   "cell_type": "code",
   "execution_count": 8,
   "metadata": {},
   "outputs": [
    {
     "name": "stdout",
     "output_type": "stream",
     "text": [
      "введите год2020\n",
      "Высокосный год\n"
     ]
    }
   ],
   "source": [
    "year_input=int(input('введите год'))\n",
    "if year_input%4==0:\n",
    "    print('Высокосный год')\n",
    "else:\n",
    "    print('Обычный год')"
   ]
  },
  {
   "cell_type": "code",
   "execution_count": 9,
   "metadata": {},
   "outputs": [
    {
     "name": "stdout",
     "output_type": "stream",
     "text": [
      "Введите год2019\n",
      "Обычный год\n"
     ]
    }
   ],
   "source": [
    "year_input=int(input('Введите год'))\n",
    "if year_input%4==0:\n",
    "    print('Высокосный год')\n",
    "else:\n",
    "    print('Обычный год')"
   ]
  },
  {
   "cell_type": "code",
   "execution_count": 10,
   "metadata": {},
   "outputs": [],
   "source": [
    "#Задание 3"
   ]
  },
  {
   "cell_type": "code",
   "execution_count": 12,
   "metadata": {},
   "outputs": [
    {
     "name": "stdout",
     "output_type": "stream",
     "text": [
      "введите месяц рожденияиюль\n",
      "введите день рождения30\n",
      "лев\n"
     ]
    }
   ],
   "source": [
    "month=input('введите месяц рождения')\n",
    "date=int(input('введите день рождения'))\n",
    "if month == 'март':\n",
    "    if date<21:\n",
    "        print('рыбы')\n",
    "    else:\n",
    "        print('овен')\n",
    "if month == 'апрель':\n",
    "    if date<21:\n",
    "        print('овен')\n",
    "    else:\n",
    "        print('телец')\n",
    "if month == 'май':\n",
    "    if date<21:\n",
    "        print('телец')\n",
    "    else:\n",
    "        print('близнецы')\n",
    "if month == 'июнь':\n",
    "    if date<21:\n",
    "        print('близнецы')\n",
    "    else:\n",
    "        print('рак')\n",
    "if month == 'июль':\n",
    "    if date<21:\n",
    "        print('рак')\n",
    "    else:\n",
    "        print('лев')\n",
    "if month == 'август':\n",
    "    if date<21:\n",
    "        print('лев')\n",
    "    else:\n",
    "        print('дева')\n",
    "if month == 'сентябрь':\n",
    "    if date<21:\n",
    "        print('дева')\n",
    "    else:\n",
    "        print ('весы')\n",
    "if month == 'октябрь':\n",
    "    if date<21:\n",
    "        print('весы')\n",
    "    else:\n",
    "        print('скорпион')\n",
    "if month == 'ноябрь':\n",
    "    if date<21:\n",
    "        print('скорпион')\n",
    "    else:\n",
    "        print('стрелец')\n",
    "if month == 'декабрь':\n",
    "    if date<21:\n",
    "        print('стрелец')\n",
    "    else:\n",
    "        print('козерог')\n",
    "if month == 'январь':\n",
    "    if date<21:\n",
    "        print('козерог')\n",
    "    else:\n",
    "        print('водолей')\n",
    "if month == 'февраль':\n",
    "    if date<21:\n",
    "        print('водолей')\n",
    "    else:\n",
    "        print('рыбы')"
   ]
  },
  {
   "cell_type": "code",
   "execution_count": 13,
   "metadata": {},
   "outputs": [],
   "source": [
    "#Задание 4"
   ]
  },
  {
   "cell_type": "code",
   "execution_count": 20,
   "metadata": {},
   "outputs": [
    {
     "name": "stdout",
     "output_type": "stream",
     "text": [
      "Введите ширину51\n",
      "введите длинну210\n",
      "введите высоту36\n",
      "Упаковка лыж\n"
     ]
    }
   ],
   "source": [
    "w=int(input('Введите ширину'))\n",
    "l=int(input('введите длинну'))\n",
    "h=int(input('введите высоту'))\n",
    "if w<15:\n",
    "    if l<15:\n",
    "        if h<15:\n",
    "            print('Коробка 1')\n",
    "elif (w>15 and w<50) or (l>15 and l<50) or (h<15 and h<50):\n",
    "    print('Коробка 2')\n",
    "elif l>200:\n",
    "    print('Упаковка лыж')\n",
    "else:\n",
    "    print('Стандартная коробка 3')"
   ]
  },
  {
   "cell_type": "code",
   "execution_count": null,
   "metadata": {},
   "outputs": [],
   "source": []
  }
 ],
 "metadata": {
  "kernelspec": {
   "display_name": "Python 3",
   "language": "python",
   "name": "python3"
  },
  "language_info": {
   "codemirror_mode": {
    "name": "ipython",
    "version": 3
   },
   "file_extension": ".py",
   "mimetype": "text/x-python",
   "name": "python",
   "nbconvert_exporter": "python",
   "pygments_lexer": "ipython3",
   "version": "3.8.5"
  }
 },
 "nbformat": 4,
 "nbformat_minor": 4
}
