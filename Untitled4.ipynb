{
 "cells": [
  {
   "cell_type": "code",
   "execution_count": null,
   "metadata": {},
   "outputs": [],
   "source": [
    "# Управляющие конструкции и коллекции\n",
    "# Задание 1\n",
    "# Дана переменная , в которой хранится слово из латинских букв. Напишите код, который выводит на экран:\n",
    "#среднюю букву, если число букв в слове нечетное;\n",
    "#две средних буквы, если число букв четное."
   ]
  },
  {
   "cell_type": "code",
   "execution_count": 11,
   "metadata": {},
   "outputs": [
    {
     "name": "stdout",
     "output_type": "stream",
     "text": [
      "Введите слово на латинском языкеtesting\n",
      "t\n"
     ]
    }
   ],
   "source": [
    "w=input('Введите слово на латинском языке')\n",
    "m=len(w)//2\n",
    "if len(w)%2==0:\n",
    "    print(w[m-1:m+1])\n",
    "else:\n",
    "    print(w[m])"
   ]
  },
  {
   "cell_type": "code",
   "execution_count": null,
   "metadata": {},
   "outputs": [],
   "source": [
    "#Задание 2\n",
    "# Напишите программу, которая последовательно запрашивает у пользователя числа \n",
    "#(по одному за раз) и после первого нуля выводит сумму всех ранее введенных чисел."
   ]
  },
  {
   "cell_type": "code",
   "execution_count": 10,
   "metadata": {},
   "outputs": [
    {
     "name": "stdout",
     "output_type": "stream",
     "text": [
      "введите число2\n",
      "2\n",
      "введите число5\n",
      "5\n",
      "введите число4\n",
      "4\n",
      "введите число0\n",
      "11\n"
     ]
    }
   ],
   "source": [
    "x=1\n",
    "summ=0\n",
    "while x!=0:\n",
    "    x=int(input('введите число'))\n",
    "    summ+=x\n",
    "    if x!=0:\n",
    "        print(x)\n",
    "    else:\n",
    "        print(summ)"
   ]
  },
  {
   "cell_type": "code",
   "execution_count": null,
   "metadata": {},
   "outputs": [],
   "source": [
    "#Задание 3\n",
    "#Мы делаем MVP dating-сервиса, и у нас есть список парней и девушек.\n",
    "#Выдвигаем гипотезу: лучшие рекомендации мы получим, если просто отсортируем имена по алфавиту \n",
    "#и познакомим людей с одинаковыми индексами после сортировки! Но мы не будем никого знакомить, \n",
    "#если кто-то может остаться без пары:"
   ]
  },
  {
   "cell_type": "code",
   "execution_count": 5,
   "metadata": {},
   "outputs": [
    {
     "name": "stdout",
     "output_type": "stream",
     "text": [
      "Alex и Emma\n",
      "Arthur и Kate\n",
      "Michael и Kira\n",
      "Peter и Lisa\n",
      "Richard и Trisha\n",
      "Внимание, кто-то может остаться без пары!\n"
     ]
    }
   ],
   "source": [
    "boys=['Peter','Alex','john','Arthur','Richard','Michael']\n",
    "girls=['Kate','Lisa','Kira','Emma','Trisha']\n",
    "boys1=sorted(boys)\n",
    "girls1=sorted(girls)\n",
    "bandg=zip(boys1,girls1)\n",
    "l=list(bandg)\n",
    "for name in l:\n",
    "    print((name[0]),'и',(name[1]))\n",
    "else:\n",
    "    print('Внимание, кто-то может остаться без пары!')"
   ]
  },
  {
   "cell_type": "code",
   "execution_count": 3,
   "metadata": {},
   "outputs": [
    {
     "name": "stdout",
     "output_type": "stream",
     "text": [
      "Alex и Emma\n",
      "Arthur и Kate\n",
      "Peter и Kira\n",
      "Richard и Lisa\n",
      "john и Trisha\n"
     ]
    }
   ],
   "source": [
    "boys=['Peter','Alex','john','Arthur','Richard']\n",
    "girls=['Kate','Lisa','Kira','Emma','Trisha']\n",
    "boys1=sorted(boys)\n",
    "girls1=sorted(girls)\n",
    "bandg=zip(boys1,girls1)\n",
    "l=list(bandg)\n",
    "for name in l:\n",
    "    print((name[0]),'и',(name[1]))"
   ]
  },
  {
   "cell_type": "code",
   "execution_count": 1,
   "metadata": {},
   "outputs": [],
   "source": [
    "#Задание 4\n",
    "#Расчитать среднюю температуру для каждой страны в Цельсиях"
   ]
  },
  {
   "cell_type": "code",
   "execution_count": 8,
   "metadata": {},
   "outputs": [
    {
     "name": "stdout",
     "output_type": "stream",
     "text": [
      "23.9\n",
      "23.9\n",
      "23.9\n",
      "23.9\n"
     ]
    }
   ],
   "source": [
    "countries_temperature=[\n",
    "    ['Thailand',[75.2,77,78.8,73.4,68,75.2,77]],\n",
    "    ['Germany',[57.2,55.4,59,59,53.6]],\n",
    "    ['Russia',[35.6,37.4,39.2,41,42.8,39.2,35.6]],\n",
    "    ['Poland',[50,50,53.6,57.2,55.4,55.4]]\n",
    "]\n",
    "for element in countries_temperature:\n",
    "    a=0\n",
    "    if a<len(countries_temperature):\n",
    "        averege_temperature_F=sum(countries_temperature[a][1])/len(countries_temperature[a][1])\n",
    "        averege_temperature_C=round(5/9*(averege_temperature_F-32),1)\n",
    "        print(averege_temperature_C)"
   ]
  },
  {
   "cell_type": "code",
   "execution_count": 7,
   "metadata": {},
   "outputs": [
    {
     "ename": "IndentationError",
     "evalue": "unexpected indent (<ipython-input-7-a3f9ce08cff9>, line 7)",
     "output_type": "error",
     "traceback": [
      "\u001b[1;36m  File \u001b[1;32m\"<ipython-input-7-a3f9ce08cff9>\"\u001b[1;36m, line \u001b[1;32m7\u001b[0m\n\u001b[1;33m    countries_list=countries_temperature.split(',')\u001b[0m\n\u001b[1;37m    ^\u001b[0m\n\u001b[1;31mIndentationError\u001b[0m\u001b[1;31m:\u001b[0m unexpected indent\n"
     ]
    }
   ],
   "source": [
    "countries_temperature=[\n",
    "    ['Thailand',[75.2,77,78.8,73.4,68,75.2,77]],\n",
    "    ['Germany',[57.2,55.4,59,59,53.6]],\n",
    "    ['Russia',[35.6,37.4,39.2,41,42.8,39.2,35.6]],\n",
    "    ['Poland',[50,50,53.6,57.2,55.4,55.4]]\n",
    "]\n",
    "    countries_list=countries_temperature.split(',')\n",
    "    countries_list"
   ]
  }
 ],
 "metadata": {
  "kernelspec": {
   "display_name": "Python 3",
   "language": "python",
   "name": "python3"
  },
  "language_info": {
   "codemirror_mode": {
    "name": "ipython",
    "version": 3
   },
   "file_extension": ".py",
   "mimetype": "text/x-python",
   "name": "python",
   "nbconvert_exporter": "python",
   "pygments_lexer": "ipython3",
   "version": "3.8.5"
  }
 },
 "nbformat": 4,
 "nbformat_minor": 4
}
