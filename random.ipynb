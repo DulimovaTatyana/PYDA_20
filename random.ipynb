{
 "cells": [
  {
   "cell_type": "markdown",
   "metadata": {},
   "source": [
    "Смоделировать игру против лотерейного автомата типа “777”. Игрок платит 1 руб., после чего выпадает случайное целое число,\n",
    "равномерно распределенное от 0 до 999. При некоторых значениях числа игрок получает выигрыш (см. справа)            \n",
    "\n",
    "1.Выгодна ли игра игроку?                \n",
    "2.Сколько в среднем приобретает                        \n",
    "или теряет игрок за одну игру?                   \n",
    "\n",
    "777: 200 руб.             \n",
    "999: 100 руб.               \n",
    "555: 50 руб.               \n",
    "333: 15 руб.                \n",
    "111: 10 руб.               \n",
    "*77: 5 руб.                  \n",
    "**7: 3 руб.               \n",
    "*00: 2 руб.            \n",
    "**0: 1 руб.                "
   ]
  },
  {
   "cell_type": "code",
   "execution_count": 2,
   "metadata": {},
   "outputs": [],
   "source": [
    "import numpy as np"
   ]
  },
  {
   "cell_type": "code",
   "execution_count": 24,
   "metadata": {},
   "outputs": [
    {
     "name": "stdout",
     "output_type": "stream",
     "text": [
      "вероятность выиграть составляет: 0.203545 средний выигрыш составляет: -0.194345\n"
     ]
    }
   ],
   "source": [
    "trials = 1000000     # Количество попыток\n",
    "successes = 0    # Количество успехов\n",
    "payoff = 0  # сумма выигрышей\n",
    "for i in range(trials):\n",
    "    random_score = np.random.randint(0, 1000)    # Случайное количество чисел от 0 до 999\n",
    "    if random_score == 777:\n",
    "        successes += 1\n",
    "        payoff += 200 \n",
    "    elif random_score == 999:\n",
    "        successes += 1\n",
    "        payoff += 100\n",
    "    elif random_score == 555:\n",
    "        successes += 1\n",
    "        payoff += 50\n",
    "    elif random_score == 333:\n",
    "        successes += 1\n",
    "        payoff += 15\n",
    "    elif random_score == 111:    \n",
    "        successes += 1\n",
    "        payoff += 10\n",
    "    elif (random_score - 77)% 100 == 0:\n",
    "        successes += 1\n",
    "        payoff += 5\n",
    "    elif (random_score - 7) % 10 == 0:\n",
    "        successes += 1\n",
    "        payoff += 3\n",
    "    elif random_score % 100 == 0:\n",
    "        successes += 1\n",
    "        payoff += 2\n",
    "    elif random_score % 10 == 0:\n",
    "        successes += 1\n",
    "        payoff += 1\n",
    "p_monte_carlo = successes / trials    # Вероятность выиграть\n",
    "payoff_mean = (payoff - trials)/trials #средний выигрыш                         \n",
    "\n",
    "print('вероятность выиграть составляет:', p_monte_carlo, 'средний выигрыш составляет:', payoff_mean)        \n",
    "        "
   ]
  },
  {
   "cell_type": "markdown",
   "metadata": {},
   "source": [
    "Вероятность выиграть составляет 20 % при 1 млн попыток, в среднем выигрыш составляет  -0,19 руб. Игра не выгодна, так как большую часть средcтв игрок теряет."
   ]
  },
  {
   "cell_type": "code",
   "execution_count": 22,
   "metadata": {},
   "outputs": [
    {
     "data": {
      "text/plain": [
       "True"
      ]
     },
     "execution_count": 22,
     "metadata": {},
     "output_type": "execute_result"
    }
   ],
   "source": [
    "490 % 10 == 0"
   ]
  },
  {
   "cell_type": "code",
   "execution_count": null,
   "metadata": {},
   "outputs": [],
   "source": []
  }
 ],
 "metadata": {
  "kernelspec": {
   "display_name": "Python 3",
   "language": "python",
   "name": "python3"
  },
  "language_info": {
   "codemirror_mode": {
    "name": "ipython",
    "version": 3
   },
   "file_extension": ".py",
   "mimetype": "text/x-python",
   "name": "python",
   "nbconvert_exporter": "python",
   "pygments_lexer": "ipython3",
   "version": "3.8.5"
  }
 },
 "nbformat": 4,
 "nbformat_minor": 4
}
