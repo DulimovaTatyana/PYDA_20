{
 "cells": [
  {
   "cell_type": "markdown",
   "metadata": {},
   "source": [
    "Задание 1                        \n",
    "Скачайте с сайта https://grouplens.org/datasets/movielens/ датасет любого размера.                        \n",
    "Определите какому фильму было выставлено больше всего оценок 5.0."
   ]
  },
  {
   "cell_type": "code",
   "execution_count": 3,
   "metadata": {},
   "outputs": [],
   "source": [
    "import pandas as pd"
   ]
  },
  {
   "cell_type": "code",
   "execution_count": 8,
   "metadata": {},
   "outputs": [
    {
     "name": "stdout",
     "output_type": "stream",
     "text": [
      "Wall time: 2min 31s\n",
      "Parser   : 135 ms\n"
     ]
    },
    {
     "data": {
      "text/plain": [
       "Shawshank Redemption, The (1994)             39553\n",
       "Pulp Fiction (1994)                          32169\n",
       "Forrest Gump (1994)                          25918\n",
       "Star Wars: Episode IV - A New Hope (1977)    25804\n",
       "Matrix, The (1999)                           25482\n",
       "Name: title, dtype: int64"
      ]
     },
     "execution_count": 8,
     "metadata": {},
     "output_type": "execute_result"
    }
   ],
   "source": [
    "%%time\n",
    "ratings = pd.read_csv('ratings.csv')\n",
    "movies = pd.read_csv('movies.csv')\n",
    "sorted_1 = ratings.sort_values('movieId', ascending = True)\n",
    "#sorted_1.head(5)\n",
    "joined = sorted_1.merge(movies, on = 'movieId', how = 'left')\n",
    "#joined.head(5)\n",
    "data = joined[joined.rating >= 5]\n",
    "data['title'].value_counts().head(5)"
   ]
  },
  {
   "cell_type": "markdown",
   "metadata": {},
   "source": [
    "'Shawshank Redemption' - было выставлено максимальное количество оценок 5."
   ]
  },
  {
   "cell_type": "markdown",
   "metadata": {},
   "source": [
    "Задание 2                                                        \n",
    "По данным файла power.csv посчитайте суммарное потребление стран Прибалтики (Латвия, Литва и Эстония)                           \n",
    "категорий 4, 12 и 21 за период с 2005 по 2010 года. Не учитывайте в расчетах отрицательные значения quantity."
   ]
  },
  {
   "cell_type": "code",
   "execution_count": 9,
   "metadata": {},
   "outputs": [
    {
     "data": {
      "text/plain": [
       "76025.0"
      ]
     },
     "execution_count": 9,
     "metadata": {},
     "output_type": "execute_result"
    }
   ],
   "source": [
    "power = pd.read_csv('power.csv')\n",
    "power = power[power.quantity > 0]\n",
    "power = power[(power['country'] =='Latvia') | (power['country'] =='Lithuania') | (power['country'] =='Estonia')]\n",
    "power = power[(power['category'] == 4) | (power['category'] == 12) | (power['category'] == 21)]\n",
    "power = power[(power['year'] == 2005) | (power['year'] == 2010)]\n",
    "#power.head(1200)\n",
    "power['quantity'].sum()"
   ]
  },
  {
   "cell_type": "markdown",
   "metadata": {},
   "source": [
    "Суммарное потребление тран Прибалтики с учетом всех условий составило 76025."
   ]
  },
  {
   "cell_type": "markdown",
   "metadata": {},
   "source": [
    "Задание 3                          \n",
    "Выберите страницу любого сайта с табличными данными.                           \n",
    "Импортируйте таблицы в pandas dataframe.                          \n",
    "Примеры страниц (необязательно брать именно эти):                         \n",
    "https://fortrader.org/quotes\n",
    "https://www.finanz.ru/valyuty/v-realnom-vremeni"
   ]
  },
  {
   "cell_type": "code",
   "execution_count": 13,
   "metadata": {},
   "outputs": [
    {
     "name": "stdout",
     "output_type": "stream",
     "text": [
      "[     0       1      2        3       4      5        6       7      8   \\\n",
      "0  ММВБ   3 683   0,7%   Nasdaq  13 402  -2,6%  Биткойн  54 920  -1,6%   \n",
      "1   РТС   1 578   1,7%   S&P500   4 188  -1,0%    Нефть     678  -0,6%   \n",
      "2   Dow  34 743  -0,1%  FTSE100   7 124  -0,1%   Золото   1 837   0,1%   \n",
      "\n",
      "        9       10    11  \n",
      "0  USD/RUB  743030  0,0%  \n",
      "1  EUR/RUB  902575  0,1%  \n",
      "2  EUR/USD   12150  0,1%  ,     Unnamed: 0              Рубль  Предложение  Спрос  Предыдущее закрытие  \\\n",
      "0          NaN            GBP/RUB      1046250      -              1049731   \n",
      "1          NaN            EUR/RUB       899895      -               901875   \n",
      "2          NaN            USD/RUB       739692      -               743383   \n",
      "3          NaN            JPY/RUB        06810      -                06829   \n",
      "4          NaN            CNY/RUB       115147      -               115853   \n",
      "5          NaN            CHF/RUB       819664      -               824515   \n",
      "6          NaN               Евро  Предложение  Спрос  Предыдущее закрытие   \n",
      "7          NaN            EUR/USD        12169      -                12132   \n",
      "8          NaN            EUR/GBP        08602      -                08593   \n",
      "9          NaN            EUR/JPY      1321800      -              1320600   \n",
      "10         NaN            EUR/CHF        10973      -                10937   \n",
      "11         NaN         Доллар США  Предложение  Спрос  Предыдущее закрытие   \n",
      "12         NaN            USD/EUR        08219      -                08242   \n",
      "13         NaN            USD/GBP        07071      -                07082   \n",
      "14         NaN            USD/JPY      1086320      -              1088560   \n",
      "15         NaN            USD/CHF        09018      -                09015   \n",
      "16         NaN      Японская иена  Предложение  Спрос  Предыдущее закрытие   \n",
      "17         NaN    JPY/EUR (100:1)        07600      -                07600   \n",
      "18         NaN            JPY/GBP        00065      -                00065   \n",
      "19         NaN            JPY/USD        00092      -                00092   \n",
      "20         NaN    JPY/CHF (100:1)        08300      -                08300   \n",
      "21         NaN    Фунт стерлингов  Предложение  Спрос  Предыдущее закрытие   \n",
      "22         NaN            GBP/USD        14143      -                14121   \n",
      "23         NaN            GBP/JPY      1536420      -              1537113   \n",
      "24         NaN            GBP/EUR        11623      -                11640   \n",
      "25         NaN            GBP/CHF        12755      -                12727   \n",
      "26         NaN  Швейцарский франк  Предложение  Спрос  Предыдущее закрытие   \n",
      "27         NaN            GBP/CHF        12755      -                12727   \n",
      "28         NaN            EUR/CHF        10973      -                10937   \n",
      "29         NaN    JPY/CHF (100:1)        08300      -                08300   \n",
      "30         NaN            USD/CHF        09018      -                09015   \n",
      "31         NaN  Украинская гривна  Предложение  Спрос  Предыдущее закрытие   \n",
      "32         NaN            EUR/UAH       336553      -               336646   \n",
      "33         NaN            USD/UAH       276600      -               277475   \n",
      "34         NaN            CHF/UAH       306719      -               307758   \n",
      "35         NaN            GBP/UAH       391222      -               391822   \n",
      "\n",
      "          %  Абсолютное значение     Время  \n",
      "0   -0,33 %               -03481  14:39:00  \n",
      "1   -0,22 %               -01980  14:40:00  \n",
      "2   -0,50 %               -03691  14:40:00  \n",
      "3   -0,29 %               -00020  14:39:00  \n",
      "4   -0,61 %               -00706  14:39:00  \n",
      "5   -0,59 %               -04851  14:32:00  \n",
      "6         %  Абсолютное значение     Время  \n",
      "7    0,31 %                00037  14:40:00  \n",
      "8    0,11 %                00010  14:40:00  \n",
      "9    0,09 %                01200  14:40:00  \n",
      "10   0,33 %                00036  14:40:00  \n",
      "11        %  Абсолютное значение     Время  \n",
      "12  -0,28 %               -00023  14:40:00  \n",
      "13  -0,15 %               -00011  14:40:00  \n",
      "14  -0,21 %               -02240  14:40:00  \n",
      "15   0,03 %                00003  14:40:00  \n",
      "16        %  Абсолютное значение     Время  \n",
      "17  -0,08 %                00000  14:39:00  \n",
      "18   0,05 %                00000  14:39:00  \n",
      "19   0,21 %                00000  14:39:00  \n",
      "20   0,24 %                00000  14:39:00  \n",
      "21        %  Абсолютное значение     Время  \n",
      "22   0,16 %                00023  14:39:00  \n",
      "23  -0,05 %               -00693  14:39:00  \n",
      "24  -0,15 %               -00017  14:39:00  \n",
      "25   0,22 %                00028  14:39:00  \n",
      "26        %  Абсолютное значение     Время  \n",
      "27   0,22 %                00028  14:39:00  \n",
      "28   0,33 %                00036  14:40:00  \n",
      "29   0,24 %                00000  14:39:00  \n",
      "30   0,03 %                00003  14:40:00  \n",
      "31        %  Абсолютное значение     Время  \n",
      "32  -0,03 %               -00094  14:39:00  \n",
      "33  -0,32 %               -00875  14:39:00  \n",
      "34  -0,34 %               -01039  14:39:00  \n",
      "35  -0,15 %               -00599  14:39:00  ,                                                    0  \\\n",
      "0                                      Имя и фамилия   \n",
      "1                                            Телефон   \n",
      "2                                                NaN   \n",
      "3  Я даю согласие на обработку своих персональных...   \n",
      "\n",
      "                                                   1  \\\n",
      "0                                              Город   \n",
      "1                                              Email   \n",
      "2                                                NaN   \n",
      "3  Я даю согласие на обработку своих персональных...   \n",
      "\n",
      "                                                   2  \\\n",
      "0                                                NaN   \n",
      "1                                                NaN   \n",
      "2  Спасибо! Ваша заявка отправлена Финансовый кон...   \n",
      "3                                                NaN   \n",
      "\n",
      "                                                   3  \\\n",
      "0                                                NaN   \n",
      "1                                                NaN   \n",
      "2  Спасибо! Ваша заявка отправлена Финансовый кон...   \n",
      "3                                                NaN   \n",
      "\n",
      "                                                   4  \\\n",
      "0                                                NaN   \n",
      "1                                                NaN   \n",
      "2  ошибка: не удалось создать заявку в журнале за...   \n",
      "3                                                NaN   \n",
      "\n",
      "                                                   5                       6  \\\n",
      "0                                                NaN                     NaN   \n",
      "1                                                NaN                     NaN   \n",
      "2  ошибка: не удалось создать заявку в журнале за...  ошибка: не POST-запрос   \n",
      "3                                                NaN                     NaN   \n",
      "\n",
      "                        7                                                  8  \\\n",
      "0                     NaN                                                NaN   \n",
      "1                     NaN                                                NaN   \n",
      "2  ошибка: не POST-запрос  Просим Вас согласиться на передачу и обработку...   \n",
      "3                     NaN                                                NaN   \n",
      "\n",
      "                                                   9  \n",
      "0                                                NaN  \n",
      "1                                                NaN  \n",
      "2  Просим Вас согласиться на передачу и обработку...  \n",
      "3                                                NaN  ]\n"
     ]
    }
   ],
   "source": [
    "data = pd.read_html('https://www.finanz.ru/valyuty/v-realnom-vremeni', encoding = 'utf8')\n",
    "print(data)"
   ]
  },
  {
   "cell_type": "code",
   "execution_count": null,
   "metadata": {},
   "outputs": [],
   "source": []
  }
 ],
 "metadata": {
  "kernelspec": {
   "display_name": "Python 3",
   "language": "python",
   "name": "python3"
  },
  "language_info": {
   "codemirror_mode": {
    "name": "ipython",
    "version": 3
   },
   "file_extension": ".py",
   "mimetype": "text/x-python",
   "name": "python",
   "nbconvert_exporter": "python",
   "pygments_lexer": "ipython3",
   "version": "3.8.5"
  }
 },
 "nbformat": 4,
 "nbformat_minor": 4
}
