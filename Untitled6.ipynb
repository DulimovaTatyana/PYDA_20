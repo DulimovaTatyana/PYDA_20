{
 "cells": [
  {
   "cell_type": "markdown",
   "metadata": {},
   "source": [
    "#Задание 1"
   ]
  },
  {
   "cell_type": "code",
   "execution_count": 2,
   "metadata": {},
   "outputs": [
    {
     "name": "stdout",
     "output_type": "stream",
     "text": [
      "Фраза 1 длиннее фразы 2\n"
     ]
    }
   ],
   "source": [
    "phrase_1='Насколько проще было бы писать программы, если бы не заказчики'\n",
    "phrase_2='640Кб должно хватить для любых команд.Билл Гейтс(по легенде)'\n",
    "if len(phrase_1)>len(phrase_2):\n",
    "    print('Фраза 1 длиннее фразы 2')\n",
    "elif len(phrase_2)>len(phrase_1):\n",
    "    print('Фраза 2 длинее фразы 1')\n",
    "elif len(phrase_1)==len(phrase_1):\n",
    "    print('Фразы равной длинны')"
   ]
  },
  {
   "cell_type": "markdown",
   "metadata": {},
   "source": [
    "#Задание 2"
   ]
  },
  {
   "cell_type": "code",
   "execution_count": 3,
   "metadata": {},
   "outputs": [
    {
     "name": "stdout",
     "output_type": "stream",
     "text": [
      "введите год2017\n",
      "Обычный год\n"
     ]
    }
   ],
   "source": [
    "year_input=int(input('введите год'))\n",
    "if year_input%4==0:\n",
    "    if year_input%100==0:\n",
    "        if year_input%400==0:\n",
    "            print('Высокосный год')\n",
    "        else:\n",
    "            print('Обычный год')\n",
    "    else:\n",
    "        print('Высокосный год')\n",
    "else:\n",
    "    print('Обычный год')"
   ]
  },
  {
   "cell_type": "markdown",
   "metadata": {},
   "source": [
    "#Задание 3"
   ]
  },
  {
   "cell_type": "code",
   "execution_count": 4,
   "metadata": {},
   "outputs": [
    {
     "name": "stdout",
     "output_type": "stream",
     "text": [
      "введите месяц рожденияиюль\n",
      "введите день рождения30\n",
      "лев\n"
     ]
    }
   ],
   "source": [
    "month=input('введите месяц рождения')\n",
    "date=int(input('введите день рождения'))\n",
    "if month=='март'and date<21:\n",
    "    print('рыбы')\n",
    "elif month=='март'and dat>=21:\n",
    "    print('овен')\n",
    "elif month=='апрель'and date<21:\n",
    "    print('овен')\n",
    "elif month=='апрель' and date>=21:\n",
    "    print('телец')\n",
    "elif month=='май'and date<21:\n",
    "    print('телец')\n",
    "elif month=='май'and date>=21:\n",
    "    print('близнецы')\n",
    "elif month=='июнь'and date<21:\n",
    "    print('близнецы')\n",
    "elif month=='июнь' and date>=21:\n",
    "    print('рак')\n",
    "elif month=='июль'and date<21:\n",
    "    print('рак')\n",
    "elif month=='июль'and date>=21:\n",
    "    print('лев')\n",
    "elif month=='август'and date<21:\n",
    "    print('лев')\n",
    "elif month=='август'and date>=21:\n",
    "    print('дева')\n",
    "elif month=='сентябрь'and date<21:\n",
    "    print('дева')\n",
    "elif month=='сентябрь' and date>=21:\n",
    "    print ('весы')\n",
    "elif month=='октябрь'and date<21:\n",
    "    print('весы')\n",
    "elif month=='октябрь' and date>=21:\n",
    "    print('скорпион')\n",
    "elif month=='ноябрь'and date<21:\n",
    "    print('скорпион')\n",
    "elif month=='ноябрь' and date>=21:\n",
    "    print('стрелец')\n",
    "elif month=='декабрь'and date<21:\n",
    "    print('стрелец')\n",
    "elif month=='декабрь' and date>=21:\n",
    "    print('козерог')\n",
    "elif month=='январь'and date<21:\n",
    "    print('козерог')\n",
    "elif month=='январь' and date>=21:\n",
    "    print('водолей')\n",
    "elif month=='февраль'and date<21:\n",
    "    print('водолей')\n",
    "elif month=='февраль' and date>=21:\n",
    "    print('рыбы')"
   ]
  },
  {
   "cell_type": "markdown",
   "metadata": {},
   "source": [
    "#Задание 4"
   ]
  },
  {
   "cell_type": "code",
   "execution_count": 5,
   "metadata": {},
   "outputs": [
    {
     "name": "stdout",
     "output_type": "stream",
     "text": [
      "Введите ширину45\n",
      "введите длинну205\n",
      "введите высоту45\n",
      "Упаковка лыж\n"
     ]
    }
   ],
   "source": [
    "w=int(input('Введите ширину'))\n",
    "l=int(input('введите длинну'))\n",
    "h=int(input('введите высоту'))\n",
    "if w<15 and l<15 and h<15:\n",
    "    print('Коробка 1')\n",
    "elif l>200:\n",
    "        print('Упаковка лыж')\n",
    "elif 15<w<50 or 15<l<50 or 15<h<50:\n",
    "    print('Коробка 2')\n",
    "else:\n",
    "    print('Стандартная коробка 3')"
   ]
  },
  {
   "cell_type": "code",
   "execution_count": null,
   "metadata": {},
   "outputs": [],
   "source": []
  }
 ],
 "metadata": {
  "kernelspec": {
   "display_name": "Python 3",
   "language": "python",
   "name": "python3"
  },
  "language_info": {
   "codemirror_mode": {
    "name": "ipython",
    "version": 3
   },
   "file_extension": ".py",
   "mimetype": "text/x-python",
   "name": "python",
   "nbconvert_exporter": "python",
   "pygments_lexer": "ipython3",
   "version": "3.8.5"
  }
 },
 "nbformat": 4,
 "nbformat_minor": 4
}
