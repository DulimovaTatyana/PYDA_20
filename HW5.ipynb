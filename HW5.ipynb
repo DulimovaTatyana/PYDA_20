{
 "cells": [
  {
   "cell_type": "markdown",
   "metadata": {},
   "source": [
    "#Домашнее задание\n",
    "1. Переведите содержимое файла purchase_log.txt в словарь purchases вида:\n",
    "{‘1840e0b9d4’: ‘Продукты’, …}\n",
    "2. Для каждого user_id в файле visit_log.csv определите третий столбец с категорией покупки (если покупка была, сам файл visit_log.csv изменять не надо). Запишите в файл funnel.csv визиты из файла visit_log.csv, в которых были покупки с указанием категории.\n",
    "Учтите условия на данные:\n",
    "содержимое purchase_log.txt помещается в оперативную память компьютера\n",
    "содержимое visit_log.csv - нет; используйте только построчную обработку этого файла"
   ]
  },
  {
   "cell_type": "code",
   "execution_count": 50,
   "metadata": {},
   "outputs": [
    {
     "name": "stdout",
     "output_type": "stream",
     "text": [
      "('user_id', 'category')\n",
      "('1840e0b9d4', 'Продукты')\n",
      "('4e4f90fcfb', 'Электроника')\n",
      "('afea8d72fc', 'Электроника')\n",
      "('373a6055fe', 'Бытовая техника')\n",
      "('9b2ab046f3', 'Электроника')\n"
     ]
    }
   ],
   "source": [
    "#Задание 1\n",
    "import json\n",
    "purchases = {}\n",
    "with open('purchase_log.txt', 'r', encoding = 'utf-8') as f:\n",
    "    for line in f:\n",
    "        purchases_ = json.loads(line)\n",
    "        key = purchases_[\"user_id\"]\n",
    "        value = purchases_[\"category\"]\n",
    "        purchases[key] = value\n",
    "i = 1        \n",
    "for i, item in enumerate(purchases.items()):\n",
    "    print(item)\n",
    "    i += 1\n",
    "    if i>5:\n",
    "        break  "
   ]
  },
  {
   "cell_type": "code",
   "execution_count": 47,
   "metadata": {},
   "outputs": [
    {
     "data": {
      "text/plain": [
       "<_io.TextIOWrapper name='funnel.csv' mode='w' encoding='utf-8'>"
      ]
     },
     "execution_count": 47,
     "metadata": {},
     "output_type": "execute_result"
    }
   ],
   "source": [
    "import json\n",
    "purchases = {}\n",
    "with open('purchase_log.txt', 'r', encoding = 'utf-8') as f:\n",
    "    for line in f:\n",
    "        purchases_ = json.loads(line)\n",
    "        key = purchases_[\"user_id\"]\n",
    "        value = purchases_[\"category\"]\n",
    "        purchases[key] = value\n",
    "with open('visit_log.csv', 'r', encoding = 'utf-8') as visit: \n",
    "    with open('funnel.csv', 'w', encoding = 'utf-8') as funnel: \n",
    "        for line in visit: \n",
    "            line_list = line.strip().split(',') \n",
    "            if line_list[0] in purchases.keys(): \n",
    "                line_list.append(purchases[line_list[0]]) \n",
    "                add_line = ','.join(line_list) \n",
    "                funnel.write(add_line+'\\n')\n",
    "funnel"
   ]
  },
  {
   "cell_type": "code",
   "execution_count": 49,
   "metadata": {},
   "outputs": [
    {
     "name": "stdout",
     "output_type": "stream",
     "text": [
      "user_id,source,category\n",
      "\n",
      "1840e0b9d4,other,Продукты\n",
      "\n",
      "4e4f90fcfb,context,Электроника\n",
      "\n",
      "afea8d72fc,other,Электроника\n",
      "\n",
      "2824221f38,email,Продукты\n",
      "\n",
      "373a6055fe,other,Бытовая техника\n",
      "\n"
     ]
    }
   ],
   "source": [
    "i = 0\n",
    "with open('funnel.csv', 'r', encoding = 'utf-8') as d:\n",
    "    for line in d:\n",
    "        print(line)\n",
    "        i += 1\n",
    "        if i > 5:\n",
    "            break"
   ]
  }
 ],
 "metadata": {
  "kernelspec": {
   "display_name": "Python 3",
   "language": "python",
   "name": "python3"
  },
  "language_info": {
   "codemirror_mode": {
    "name": "ipython",
    "version": 3
   },
   "file_extension": ".py",
   "mimetype": "text/x-python",
   "name": "python",
   "nbconvert_exporter": "python",
   "pygments_lexer": "ipython3",
   "version": "3.8.5"
  }
 },
 "nbformat": 4,
 "nbformat_minor": 4
}
