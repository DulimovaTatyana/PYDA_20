{
 "cells": [
  {
   "cell_type": "markdown",
   "metadata": {},
   "source": [
    "#Задание 1\n",
    "Печатные газеты использовали свой формат дат для каждого выпуска. Для каждой газеты из списка напишите формат указанной даты для перевода в объект datetime:\n",
    "The Moscow Times - Wednesday, October 2, 2002\n",
    "The Guardian - Friday, 11.10.13\n",
    "Daily News - Thursday, 18 August 1977"
   ]
  },
  {
   "cell_type": "code",
   "execution_count": 3,
   "metadata": {},
   "outputs": [
    {
     "name": "stdout",
     "output_type": "stream",
     "text": [
      "2002-10-01 00:00:00\n",
      "2013-10-11 00:00:00\n",
      "1977-08-18 00:00:00\n"
     ]
    }
   ],
   "source": [
    "from datetime import datetime\n",
    "The_Moscow_Times = 'Wednesday, October 2, 2002'\n",
    "The_Guardian = 'Friday, 11.10.13'\n",
    "Daily_News = 'Thursday, 18 August 1977'\n",
    "\n",
    "from datetime import datetime\n",
    "Moscow = datetime.strptime('Wednesday, October 2, 2002', '%A, %B %w, %Y')\n",
    "Guardian = datetime.strptime('Friday, 11.10.13', '%A, %d.%m.%y')\n",
    "Daily = datetime.strptime('Thursday, 18 August 1977', '%A, %d %B %Y')\n",
    "print(Moscow)\n",
    "print(Guardian)\n",
    "print(Daily)"
   ]
  },
  {
   "cell_type": "markdown",
   "metadata": {},
   "source": [
    "#Задание 2\n",
    "Дан поток дат в формате YYYY-MM-DD, в которых встречаются некорректные значения:\n",
    "stream = [‘2018-04-02’, ‘2018-02-29’, ‘2018-19-02’]\n",
    "Напишите функцию, которая проверяет эти даты на корректность. \n",
    "Т. е. для каждой даты возвращает True (дата корректна) или False (некорректная дата)."
   ]
  },
  {
   "cell_type": "code",
   "execution_count": 4,
   "metadata": {},
   "outputs": [
    {
     "name": "stdout",
     "output_type": "stream",
     "text": [
      "2018-04-02 Даты корректны\n",
      "2018-02-29 Некорректна дата\n",
      "2018-19-02 Некорректна дата\n"
     ]
    }
   ],
   "source": [
    "from datetime import datetime\n",
    "from datetime import timedelta\n",
    "stream = ['2018-04-02', '2018-02-29', '2018-19-02']\n",
    "# формат %Y-%m-%d\n",
    "def true_date(stream):\n",
    "        for i in stream:\n",
    "            try:\n",
    "                if datetime.strptime(i, '%Y-%m-%d'):\n",
    "                    print(i, 'Даты корректны')\n",
    "            except:\n",
    "                    print(i,'Некорректна дата')\n",
    "            \n",
    "true_date(stream)            "
   ]
  },
  {
   "cell_type": "markdown",
   "metadata": {},
   "source": [
    "#Задание 3\n",
    "Напишите функцию date_range, которая возвращает список дат за период от start_date до end_date. \n",
    "Даты должны вводиться в формате YYYY-MM-DD. \n",
    "В случае неверного формата или при start_date > end_date должен возвращаться пустой список."
   ]
  },
  {
   "cell_type": "code",
   "execution_count": 4,
   "metadata": {},
   "outputs": [
    {
     "name": "stdout",
     "output_type": "stream",
     "text": [
      "Введите начальную дату в формате YYYY-MM-DD: 2010-01-01\n",
      "Введите конечную дату в формате YYYY-MM-DD: 2010-01-04\n",
      "2010-01-01\n",
      "2010-01-02\n",
      "2010-01-03\n",
      "2010-01-04\n"
     ]
    }
   ],
   "source": [
    "from datetime import datetime\n",
    "from datetime import timedelta\n",
    "def function_date(start_date,end_date):\n",
    "    try:\n",
    "        if datetime.strptime(start_date,'%Y-%m-%d'):\n",
    "            if datetime.strptime(end_date,'%Y-%m-%d'):\n",
    "                if datetime.strptime(start_date,'%Y-%m-%d') < datetime.strptime(end_date,'%Y-%m-%d'):\n",
    "                    current_dt = datetime.strptime(start_date, '%Y-%m-%d')\n",
    "                    end_date_f = datetime.strptime(end_date, '%Y-%m-%d')\n",
    "                    while current_dt <= end_date_f:\n",
    "                        print(current_dt.strftime('%Y-%m-%d'))\n",
    "                        current_dt += timedelta(days=1)\n",
    "                else:\n",
    "                    print(\"Начальная дата больше конечной\")\n",
    "                    return None\n",
    "        return None\n",
    "    except:\n",
    "        return None\n",
    "\n",
    "start_date = input('Введите начальную дату в формате YYYY-MM-DD: ')\n",
    "end_date = input('Введите конечную дату в формате YYYY-MM-DD: ')\n",
    "function_date(start_date, end_date)"
   ]
  },
  {
   "cell_type": "code",
   "execution_count": null,
   "metadata": {},
   "outputs": [],
   "source": []
  }
 ],
 "metadata": {
  "kernelspec": {
   "display_name": "Python 3",
   "language": "python",
   "name": "python3"
  },
  "language_info": {
   "codemirror_mode": {
    "name": "ipython",
    "version": 3
   },
   "file_extension": ".py",
   "mimetype": "text/x-python",
   "name": "python",
   "nbconvert_exporter": "python",
   "pygments_lexer": "ipython3",
   "version": "3.8.5"
  }
 },
 "nbformat": 4,
 "nbformat_minor": 4
}
